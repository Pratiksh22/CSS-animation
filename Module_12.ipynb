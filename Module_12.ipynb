{
  "nbformat": 4,
  "nbformat_minor": 0,
  "metadata": {
    "colab": {
      "provenance": []
    },
    "kernelspec": {
      "name": "python3",
      "display_name": "Python 3"
    },
    "language_info": {
      "name": "python"
    }
  },
  "cells": [
    {
      "cell_type": "code",
      "execution_count": null,
      "metadata": {
        "id": "DSfL3ksljIE6"
      },
      "outputs": [],
      "source": []
    },
    {
      "cell_type": "markdown",
      "source": [
        "Q.1 Explain the purpose of using the var() function in css. Also you have created two buttons with id named\n",
        "primaryBtn and secondaryBtn which should be given background colors using the var() function. The color\n",
        "code for primaryColor is #00b7ff and secondaryColor is #6c757d."
      ],
      "metadata": {
        "id": "i3tGmJOgjNz-"
      }
    },
    {
      "cell_type": "markdown",
      "source": [
        "The var() function in CSS is used to reference custom properties (also known as CSS variables). It allows you to define values (like colors, fonts, spacing, etc.) in one place and reuse them throughout your stylesheet. This improves consistency, maintainability, and scalability of your code.\n",
        "\n",
        "Benefits of var():\n",
        "Centralized control: Change the value in one place, and it updates everywhere it's used.\n",
        "\n",
        "Theming: Easily switch between color themes by changing variable values.\n",
        "\n",
        "Cleaner code: Reduces repetition and simplifies updates.\n",
        "\n"
      ],
      "metadata": {
        "id": "87PkjwIvjTKs"
      }
    },
    {
      "cell_type": "code",
      "source": [
        "<!DOCTYPE html>\n",
        "<html>\n",
        "<head>\n",
        "    <meta charset=\"UTF-8\" />\n",
        "    <title> Button</title>\n",
        "    <style>\n",
        "        :root {\n",
        "  --primaryColor: #00b7ff;\n",
        "  --secondaryColor: #6c757d;\n",
        "}\n",
        "\n",
        "#primaryBtn {\n",
        "  background-color: var(--primaryColor);\n",
        "  color: white;\n",
        "  padding: 10px 20px;\n",
        "  border: none;\n",
        "  border-radius: 5px;\n",
        "}\n",
        "\n",
        "#secondaryBtn {\n",
        "  background-color: var(--secondaryColor);\n",
        "  color: white;\n",
        "  padding: 10px 20px;\n",
        "  border: none;\n",
        "  border-radius: 5px;\n",
        "}\n",
        "\n",
        "    </style>\n",
        "</head>\n",
        "<body>\n",
        "    <button id=\"primaryBtn\">Primary</button>\n",
        "    <button id=\"secondaryBtn\">Secondary</button>\n",
        "\n",
        "</body>\n",
        "</html>"
      ],
      "metadata": {
        "id": "bstJiEWEjem6"
      },
      "execution_count": null,
      "outputs": []
    },
    {
      "cell_type": "markdown",
      "source": [
        "Q.2 Create a 3D cube using the transform property of CSS."
      ],
      "metadata": {
        "id": "dwxS_Ys3jjug"
      }
    },
    {
      "cell_type": "code",
      "source": [
        "<!DOCTYPE html>\n",
        "<html>\n",
        "<head>\n",
        "    <meta charset=\"UTF-8\" />\n",
        "    <title> 3D cube</title>\n",
        "    <style>\n",
        "        .body{\n",
        "            background: #111;\n",
        "\n",
        "            height: 100vh;\n",
        "            margin: 0;\n",
        "            perspective: 800px;\n",
        "        }\n",
        "        .scene{\n",
        "            width: 200px;\n",
        "            height: 200px;\n",
        "            perspective: 800px;\n",
        "\n",
        "\n",
        "        }\n",
        "        .cube{\n",
        "            width: 100px;\n",
        "            height: 100px;\n",
        "            transform:translate(120px 120px); ;\n",
        "            transform-style: preserve-3d;\n",
        "            animation: rotateCube 3s infinite linear;\n",
        "        }\n",
        "        .face{\n",
        "            position: absolute;\n",
        "            width: 100px;\n",
        "            height: 100px;\n",
        "            background: rgba(255, 255, 255, 0.9);\n",
        "            border: 1px solid #ccc;\n",
        "            line-height: 100px;\n",
        "            font-weight: bold;\n",
        "            color: #000;\n",
        "            text-align: center;\n",
        "        }\n",
        "        .front{\n",
        "            transform: rotateY(0deg) translateZ(50px);\n",
        "        }\n",
        "         .back{\n",
        "            transform: rotateY(180deg) translateZ(50px);\n",
        "        }\n",
        "         .right{\n",
        "            transform: rotateY(90deg) translateZ(50px);\n",
        "        }\n",
        "         .left{\n",
        "            transform: rotateY(-90deg) translateZ(50px);\n",
        "        }\n",
        "         .top{\n",
        "            transform: rotateX(90deg) translateZ(50px);\n",
        "        }\n",
        "         .bottom{\n",
        "            transform: rotateX(-90deg) translateZ(50px);\n",
        "        }\n",
        "\n",
        "        @keyframes rotateCube {\n",
        "             0% {transform: rotateX(0deg) rotateY(0deg);}\n",
        "        100% {transform: rotateX(360deg) rotateY(360deg);}\n",
        "        }\n",
        "    </style>\n",
        "</head>\n",
        "<body>\n",
        "    <div class=\"scene\">\n",
        "        <div class=\"cube\">\n",
        "            <div class=\"face front\">Front</div>\n",
        "            <div class=\"face back\">Back</div>\n",
        "            <div class=\"face right\">Right</div>\n",
        "            <div class=\"face left\">Left</div>\n",
        "            <div class=\"face top\">Top</div>\n",
        "            <div class=\"face bottom\">Bottom</div>\n",
        "        </div>\n",
        "    </div>\n",
        "</body>\n",
        "</html>"
      ],
      "metadata": {
        "id": "Z6ioPeQejnA-"
      },
      "execution_count": null,
      "outputs": []
    },
    {
      "cell_type": "markdown",
      "source": [
        "Q.3 Create a simple circular loader which will rotate continuously to look like a loading screen on a website."
      ],
      "metadata": {
        "id": "HgJA6AfOjrxZ"
      }
    },
    {
      "cell_type": "code",
      "source": [
        "<!DOCTYPE html>\n",
        "<html>\n",
        "<head>\n",
        "    <meta charset=\"UTF-8\" />\n",
        "    <title>Circular loader</title>\n",
        "    <style>\n",
        "    .loader{\n",
        "     border: 8px solid lightgrey;\n",
        "     border-top: 8px solid #3498db;\n",
        "     border-radius: 50px;\n",
        "     width: 60px;\n",
        "     height: 60px;\n",
        "     animation: spin 1s linear infinite;\n",
        "     margin: 100px auto;\n",
        "    }\n",
        "    @keyframes spin {\n",
        "        0% {transform: rotate(0deg);}\n",
        "        100% {transform: rotate(360deg);}\n",
        "    }\n",
        "    </style>\n",
        "</head>\n",
        "<body>\n",
        "    <div class=\"loader\"></div>\n",
        "</body>\n",
        "</html>"
      ],
      "metadata": {
        "id": "4P5bcs8cjv3E"
      },
      "execution_count": null,
      "outputs": []
    }
  ]
}